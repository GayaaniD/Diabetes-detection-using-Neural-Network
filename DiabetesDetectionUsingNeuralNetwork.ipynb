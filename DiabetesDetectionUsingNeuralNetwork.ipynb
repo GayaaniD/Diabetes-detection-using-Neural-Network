{
  "nbformat": 4,
  "nbformat_minor": 0,
  "metadata": {
    "colab": {
      "provenance": []
    },
    "kernelspec": {
      "name": "python3",
      "display_name": "Python 3"
    },
    "language_info": {
      "name": "python"
    }
  },
  "cells": [
    {
      "cell_type": "code",
      "execution_count": null,
      "metadata": {
        "colab": {
          "base_uri": "https://localhost:8080/"
        },
        "id": "AHu3lZt1dTRg",
        "outputId": "85e17538-10a4-434f-c572-b63ce34d50f6"
      },
      "outputs": [
        {
          "output_type": "stream",
          "name": "stdout",
          "text": [
            "[[  6.    148.     72.    ...  33.6     0.627  50.   ]\n",
            " [  1.     85.     66.    ...  26.6     0.351  31.   ]\n",
            " [  8.    183.     64.    ...  23.3     0.672  32.   ]\n",
            " ...\n",
            " [  5.    121.     72.    ...  26.2     0.245  30.   ]\n",
            " [  1.    126.     60.    ...  30.1     0.349  47.   ]\n",
            " [  1.     93.     70.    ...  30.4     0.315  23.   ]]\n",
            "Epoch 1/5\n",
            "77/77 [==============================] - 1s 2ms/step - loss: 12.1187 - accuracy: 0.3932\n",
            "Epoch 2/5\n",
            "77/77 [==============================] - 0s 2ms/step - loss: 1.2216 - accuracy: 0.6458\n",
            "Epoch 3/5\n",
            "77/77 [==============================] - 0s 3ms/step - loss: 0.7741 - accuracy: 0.6745\n",
            "Epoch 4/5\n",
            "77/77 [==============================] - 0s 2ms/step - loss: 0.7211 - accuracy: 0.6758\n",
            "Epoch 5/5\n",
            "77/77 [==============================] - 0s 2ms/step - loss: 0.6962 - accuracy: 0.6797\n",
            "24/24 [==============================] - 0s 1ms/step - loss: 0.7052 - accuracy: 0.6810\n",
            "Accuracy: 68.10\n",
            "Saved model to disk\n"
          ]
        }
      ],
      "source": [
        "##Train data\n",
        "   #1. Number of times pregnant\n",
        "   #2. Plasma glucose concentration a 2 hours in an oral glucose tolerance test\n",
        "   #3. Diastolic blood pressure (mm Hg)\n",
        "   #4. Triceps skin fold thickness (mm)\n",
        "   #5. 2-Hour serum insulin (mu U/ml)\n",
        "   #6. Body mass index (weight in kg/(height in m)^2)\n",
        "   #7. Diabetes pedigree function\n",
        "   #8. Age (years)\n",
        "   #9. Class variable (0 or 1)\n",
        "\n",
        "\n",
        "from numpy import loadtxt #handle/load dataset\n",
        "\n",
        "from keras.models import Sequential #Empty working area \n",
        "from keras.layers import Dense #Dense layer \n",
        "\n",
        "dataset = loadtxt('pima-indians-diabetes.csv', delimiter=',')\n",
        "x = dataset[:,0:8]\n",
        "y = dataset[:,8]\n",
        "print(x)\n",
        "\n",
        "\n",
        "model = Sequential()\n",
        "model.add(Dense(12, input_dim=8, activation='relu'))\n",
        "model.add(Dense(8, activation='relu'))\n",
        "model.add(Dense(1, activation='sigmoid'))\n",
        "\n",
        "model.compile(loss='binary_crossentropy', optimizer='adam', metrics=['accuracy'])\n",
        "model.fit(x, y, epochs=5, batch_size=10)\n",
        "\n",
        "_, accuracy = model.evaluate(x, y)\n",
        "print('Accuracy: %.2f' % (accuracy*100))\n",
        "\n",
        "model_json = model.to_json()\n",
        "with open(\"model.json\", \"w\") as json_file:\n",
        "    json_file.write(model_json)\n",
        "model.save_weights(\"model.h5\")\n",
        "print(\"Saved model to disk\")\n"
      ]
    },
    {
      "cell_type": "code",
      "source": [
        "##Test data\n",
        "\n",
        "from numpy import loadtxt\n",
        "from keras.models import model_from_json\n",
        "\n",
        "dataset = loadtxt('pima-indians-diabetes.csv', delimiter=',')\n",
        "x = dataset[:,0:8]\n",
        "y = dataset[:,8]\n",
        "\n",
        "json_file = open('model.json', 'r')\n",
        "loaded_model_json = json_file.read()\n",
        "json_file.close()\n",
        "\n",
        "model = model_from_json(loaded_model_json)\n",
        "model.load_weights(\"model.h5\")\n",
        "print(\"Loaded model from disk\")\n",
        "\n",
        "predictions = numpy.argmax(model.predict(x), axis=-1)\n",
        "\n",
        "for i in range(5,10):\n",
        "\tprint('%s => %d (Original Class: %d)' % (x[i].tolist(), predictions[i], y[i]))\n"
      ],
      "metadata": {
        "colab": {
          "base_uri": "https://localhost:8080/"
        },
        "id": "ch0zK_pieqFl",
        "outputId": "4769e3e8-841c-49b1-a336-8cb6232612db"
      },
      "execution_count": null,
      "outputs": [
        {
          "output_type": "stream",
          "name": "stdout",
          "text": [
            "Loaded model from disk\n",
            "24/24 [==============================] - 0s 2ms/step\n",
            "[5.0, 116.0, 74.0, 0.0, 0.0, 25.6, 0.201, 30.0] => 0 (Original Class: 0)\n",
            "[3.0, 78.0, 50.0, 32.0, 88.0, 31.0, 0.248, 26.0] => 0 (Original Class: 1)\n",
            "[10.0, 115.0, 0.0, 0.0, 0.0, 35.3, 0.134, 29.0] => 0 (Original Class: 0)\n",
            "[2.0, 197.0, 70.0, 45.0, 543.0, 30.5, 0.158, 53.0] => 0 (Original Class: 1)\n",
            "[8.0, 125.0, 96.0, 0.0, 0.0, 0.0, 0.232, 54.0] => 0 (Original Class: 1)\n"
          ]
        }
      ]
    }
  ]
}